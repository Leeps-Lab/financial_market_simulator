{
 "cells": [
  {
   "cell_type": "code",
   "execution_count": 1,
   "metadata": {},
   "outputs": [],
   "source": [
    "#  edit this cell\n",
    "session_note = 'some simul'  # make sure there are quotes around the text,\n",
    "                                         # do not use special characters. [_-:;']"
   ]
  },
  {
   "cell_type": "code",
   "execution_count": 2,
   "metadata": {},
   "outputs": [],
   "source": [
    "assert isinstance(session_note, str) , 'invalid note, make sure it is a valid python string'"
   ]
  },
  {
   "cell_type": "code",
   "execution_count": 3,
   "metadata": {},
   "outputs": [],
   "source": [
    "debug = True"
   ]
  },
  {
   "cell_type": "code",
   "execution_count": 4,
   "metadata": {},
   "outputs": [],
   "source": [
    "import requests"
   ]
  },
  {
   "cell_type": "code",
   "execution_count": 5,
   "metadata": {},
   "outputs": [],
   "source": [
    "server_address = 'http://localhost:5000/v1/simulate' + '?debug=True' if debug else ''"
   ]
  },
  {
   "cell_type": "code",
   "execution_count": 6,
   "metadata": {},
   "outputs": [],
   "source": [
    "r = requests.post(server_address, json={'note': session_note})"
   ]
  },
  {
   "cell_type": "code",
   "execution_count": 7,
   "metadata": {},
   "outputs": [
    {
     "name": "stdout",
     "output_type": "stream",
     "text": [
      "scheduled simulation: code --> o3a430b4, debug --> True, note --> some simul, parameters --> session_duration:10 initial_price:1000000 fundamental_value_noise_mean:0 fundamental_value_noise_std:1400 exogenous_order_price_noise_mean:0 exogenous_order_price_noise_std:12000 bid_ask_offset:10000 lambdaJ:0.5 lambdaI:[0.1, 0.1] time_in_force:7 tax_rate:0.1 k_reference_price:0.2 k_signed_volume:0.5 read_fundamental_values_from_array:True a_x_multiplier:4 a_y_multiplier:2 speed_unit_cost:20000 focal_market_format:CDA external_market_format:CDA focal_market_fba_interval:2 external_market_fba_interval:1 random_seed:12338 fundamental_values:[[1, 1000000], [5, 900000]] agent_state_configs:[[3, 1, 0, 1, 0.1, 0.5], [4, 2, 1, 0, 0.1, 0], [5, 3, 0, 0, 0.1, 0]]\n"
     ]
    }
   ],
   "source": [
    "data = r.json()\n",
    "print(data['message'])"
   ]
  }
 ],
 "metadata": {
  "kernelspec": {
   "display_name": "Python 3",
   "language": "python",
   "name": "python3"
  },
  "language_info": {
   "codemirror_mode": {
    "name": "ipython",
    "version": 3
   },
   "file_extension": ".py",
   "mimetype": "text/x-python",
   "name": "python",
   "nbconvert_exporter": "python",
   "pygments_lexer": "ipython3",
   "version": "3.6.5"
  }
 },
 "nbformat": 4,
 "nbformat_minor": 2
}
